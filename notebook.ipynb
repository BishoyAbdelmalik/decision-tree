{
 "metadata": {
  "language_info": {
   "codemirror_mode": {
    "name": "ipython",
    "version": 3
   },
   "file_extension": ".py",
   "mimetype": "text/x-python",
   "name": "python",
   "nbconvert_exporter": "python",
   "pygments_lexer": "ipython3",
   "version": "3.9.4"
  },
  "orig_nbformat": 2,
  "kernelspec": {
   "name": "python394jvsc74a57bd063fd5069d213b44bf678585dea6b12cceca9941eaf7f819626cde1f2670de90d",
   "display_name": "Python 3.9.4 64-bit"
  },
  "metadata": {
   "interpreter": {
    "hash": "63fd5069d213b44bf678585dea6b12cceca9941eaf7f819626cde1f2670de90d"
   }
  }
 },
 "nbformat": 4,
 "nbformat_minor": 2,
 "cells": [
  {
   "cell_type": "code",
   "execution_count": 24,
   "metadata": {},
   "outputs": [],
   "source": [
    "import pandas as pd\n",
    "from math import log2\n"
   ]
  },
  {
   "cell_type": "code",
   "execution_count": 67,
   "metadata": {},
   "outputs": [],
   "source": [
    "def entropy(df):\n",
    "    last=df.columns[-1]\n",
    "    all=float(len(df))\n",
    "    y=float(len(df[df[last]==yes]))\n",
    "    n=float(len(df[df[last]==no]))\n",
    "    # print(f\"{y} {n} {all}\")\n",
    "    positive=y/all\n",
    "    negative=n/all\n",
    "    entropy=-(positive)*log2((positive,1.0)[positive==0.0])-(negative)*log2((negative,1.0)[negative==0.0])\n",
    "    entropy=(entropy,0.0)[entropy==0]\n",
    "    return entropy\n",
    "def information_gain(df,col):\n",
    "    values=df[col].unique()\n",
    "    entropyS=entropy(df)\n",
    "    entropies={}\n",
    "    for v in values:\n",
    "        entropies[v]=entropy(df[df[col]==v])\n",
    "        # print(f\"entropy of {v} {entropies[v]}\")\n",
    "    gain=entropyS\n",
    "    count=float(len(df))\n",
    "    for v in values:\n",
    "        sv=float(len(df[df[col]==v]))\n",
    "        gain -=(sv/count)*entropies[v]\n",
    "    return gain\n",
    "    "
   ]
  },
  {
   "cell_type": "code",
   "execution_count": 80,
   "metadata": {},
   "outputs": [
    {
     "output_type": "stream",
     "name": "stdout",
     "text": [
      "gain of Outlook is 0.0\ngain of Temp is 0.01997309402197489\ngain of Humidity is 0.01997309402197489\ngain of Wind is 0.9709505944546686\nroot is Wind\n"
     ]
    }
   ],
   "source": [
    "fname=\"subtree-Rain.csv\"\n",
    "\n",
    "data= pd.read_csv(fname)\n",
    "col= list(data.columns[1:-1])\n",
    "yes=\"Y\"\n",
    "no=\"N\"\n",
    "\n",
    "m=-1\n",
    "root=\"\"\n",
    "for c in col:\n",
    "    g=information_gain(data,c)\n",
    "    m=max(m,g)\n",
    "    if m==g:\n",
    "        root=c\n",
    "    print(f\"gain of {c} is {g}\")\n",
    "print(f\"root is {root}\")\n",
    "subTrees=data[root].unique()\n",
    "for t in subTrees:\n",
    "    sub=data[data[root]==t]\n",
    "    pure=\"\"\n",
    "    if len(sub[sub.columns[-1]].unique())==1:\n",
    "        pure=\"-is pure\"\n",
    "\n",
    "    sub.to_csv(f\"subtree-{t}{pure}.csv\",index=False)\n"
   ]
  },
  {
   "cell_type": "code",
   "execution_count": null,
   "metadata": {},
   "outputs": [],
   "source": []
  },
  {
   "cell_type": "code",
   "execution_count": null,
   "metadata": {},
   "outputs": [],
   "source": []
  }
 ]
}