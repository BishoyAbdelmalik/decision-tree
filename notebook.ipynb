{
 "metadata": {
  "language_info": {
   "codemirror_mode": {
    "name": "ipython",
    "version": 3
   },
   "file_extension": ".py",
   "mimetype": "text/x-python",
   "name": "python",
   "nbconvert_exporter": "python",
   "pygments_lexer": "ipython3",
   "version": "3.9.4"
  },
  "orig_nbformat": 2,
  "kernelspec": {
   "name": "python394jvsc74a57bd063fd5069d213b44bf678585dea6b12cceca9941eaf7f819626cde1f2670de90d",
   "display_name": "Python 3.9.4 64-bit"
  },
  "metadata": {
   "interpreter": {
    "hash": "63fd5069d213b44bf678585dea6b12cceca9941eaf7f819626cde1f2670de90d"
   }
  }
 },
 "nbformat": 4,
 "nbformat_minor": 2,
 "cells": [
  {
   "cell_type": "code",
   "execution_count": 5,
   "metadata": {},
   "outputs": [],
   "source": [
    "import pandas as pd\n",
    "from math import log2\n"
   ]
  },
  {
   "cell_type": "code",
   "execution_count": 6,
   "metadata": {},
   "outputs": [],
   "source": [
    "def entropy(df):\n",
    "    last=df.columns[-1]\n",
    "    all=float(len(df))\n",
    "    y=float(len(df[df[last]==yes]))\n",
    "    n=float(len(df[df[last]==no]))\n",
    "    # print(f\"{y} {n} {all}\")\n",
    "    positive=y/all\n",
    "    negative=n/all\n",
    "    entropy=-(positive)*log2((positive,1.0)[positive==0.0])-(negative)*log2((negative,1.0)[negative==0.0])\n",
    "    entropy=(entropy,0.0)[entropy==0]\n",
    "    return entropy\n",
    "def information_gain(df,col):\n",
    "    values=df[col].unique()\n",
    "    entropyS=entropy(df)\n",
    "    entropies={}\n",
    "    for v in values:\n",
    "        entropies[v]=entropy(df[df[col]==v])\n",
    "        # print(f\"entropy of {v} {entropies[v]}\")\n",
    "    gain=entropyS\n",
    "    count=float(len(df))\n",
    "    for v in values:\n",
    "        sv=float(len(df[df[col]==v]))\n",
    "        gain -=(sv/count)*entropies[v]\n",
    "    return gain\n",
    "    "
   ]
  },
  {
   "cell_type": "code",
   "execution_count": 10,
   "metadata": {},
   "outputs": [
    {
     "output_type": "stream",
     "name": "stdout",
     "text": [
      "gain of Outlook is 0.24674981977443933\ngain of Temp is 0.02922256565895487\ngain of Humidity is 0.15183550136234159\ngain of Wind is 0.048127030408269544\nroot is Outlook\n\n\nSunny\n"
     ]
    },
    {
     "output_type": "display_data",
     "data": {
      "text/plain": "    id Outlook  Temp Humidity    Wind Play\n0    1   Sunny   Hot     High    Weak    N\n1    2   Sunny   Hot     High  Strong    N\n7    8   Sunny  Mild     High    Weak    N\n8    9   Sunny  Cool   Normal    Weak    Y\n10  11   Sunny  Mild   Normal  Strong    Y",
      "text/html": "<div>\n<style scoped>\n    .dataframe tbody tr th:only-of-type {\n        vertical-align: middle;\n    }\n\n    .dataframe tbody tr th {\n        vertical-align: top;\n    }\n\n    .dataframe thead th {\n        text-align: right;\n    }\n</style>\n<table border=\"1\" class=\"dataframe\">\n  <thead>\n    <tr style=\"text-align: right;\">\n      <th></th>\n      <th>id</th>\n      <th>Outlook</th>\n      <th>Temp</th>\n      <th>Humidity</th>\n      <th>Wind</th>\n      <th>Play</th>\n    </tr>\n  </thead>\n  <tbody>\n    <tr>\n      <th>0</th>\n      <td>1</td>\n      <td>Sunny</td>\n      <td>Hot</td>\n      <td>High</td>\n      <td>Weak</td>\n      <td>N</td>\n    </tr>\n    <tr>\n      <th>1</th>\n      <td>2</td>\n      <td>Sunny</td>\n      <td>Hot</td>\n      <td>High</td>\n      <td>Strong</td>\n      <td>N</td>\n    </tr>\n    <tr>\n      <th>7</th>\n      <td>8</td>\n      <td>Sunny</td>\n      <td>Mild</td>\n      <td>High</td>\n      <td>Weak</td>\n      <td>N</td>\n    </tr>\n    <tr>\n      <th>8</th>\n      <td>9</td>\n      <td>Sunny</td>\n      <td>Cool</td>\n      <td>Normal</td>\n      <td>Weak</td>\n      <td>Y</td>\n    </tr>\n    <tr>\n      <th>10</th>\n      <td>11</td>\n      <td>Sunny</td>\n      <td>Mild</td>\n      <td>Normal</td>\n      <td>Strong</td>\n      <td>Y</td>\n    </tr>\n  </tbody>\n</table>\n</div>"
     },
     "metadata": {}
    },
    {
     "output_type": "stream",
     "name": "stdout",
     "text": [
      "\n\nOvercast\n"
     ]
    },
    {
     "output_type": "display_data",
     "data": {
      "text/plain": "    id   Outlook  Temp Humidity    Wind Play\n2    3  Overcast   Hot     High    Weak    Y\n6    7  Overcast  Cool   Normal  Strong    Y\n11  12  Overcast  Mild     High  Strong    Y\n12  13  Overcast   Hot   Normal    Weak    Y",
      "text/html": "<div>\n<style scoped>\n    .dataframe tbody tr th:only-of-type {\n        vertical-align: middle;\n    }\n\n    .dataframe tbody tr th {\n        vertical-align: top;\n    }\n\n    .dataframe thead th {\n        text-align: right;\n    }\n</style>\n<table border=\"1\" class=\"dataframe\">\n  <thead>\n    <tr style=\"text-align: right;\">\n      <th></th>\n      <th>id</th>\n      <th>Outlook</th>\n      <th>Temp</th>\n      <th>Humidity</th>\n      <th>Wind</th>\n      <th>Play</th>\n    </tr>\n  </thead>\n  <tbody>\n    <tr>\n      <th>2</th>\n      <td>3</td>\n      <td>Overcast</td>\n      <td>Hot</td>\n      <td>High</td>\n      <td>Weak</td>\n      <td>Y</td>\n    </tr>\n    <tr>\n      <th>6</th>\n      <td>7</td>\n      <td>Overcast</td>\n      <td>Cool</td>\n      <td>Normal</td>\n      <td>Strong</td>\n      <td>Y</td>\n    </tr>\n    <tr>\n      <th>11</th>\n      <td>12</td>\n      <td>Overcast</td>\n      <td>Mild</td>\n      <td>High</td>\n      <td>Strong</td>\n      <td>Y</td>\n    </tr>\n    <tr>\n      <th>12</th>\n      <td>13</td>\n      <td>Overcast</td>\n      <td>Hot</td>\n      <td>Normal</td>\n      <td>Weak</td>\n      <td>Y</td>\n    </tr>\n  </tbody>\n</table>\n</div>"
     },
     "metadata": {}
    },
    {
     "output_type": "stream",
     "name": "stdout",
     "text": [
      "\n\nRain\n"
     ]
    },
    {
     "output_type": "display_data",
     "data": {
      "text/plain": "    id Outlook  Temp Humidity    Wind Play\n3    4    Rain  Mild     High    Weak    Y\n4    5    Rain  Cool   Normal    Weak    Y\n5    6    Rain  Cool   Normal  Strong    N\n9   10    Rain  Mild   Normal    Weak    Y\n13  14    Rain  Mild     High  Strong    N",
      "text/html": "<div>\n<style scoped>\n    .dataframe tbody tr th:only-of-type {\n        vertical-align: middle;\n    }\n\n    .dataframe tbody tr th {\n        vertical-align: top;\n    }\n\n    .dataframe thead th {\n        text-align: right;\n    }\n</style>\n<table border=\"1\" class=\"dataframe\">\n  <thead>\n    <tr style=\"text-align: right;\">\n      <th></th>\n      <th>id</th>\n      <th>Outlook</th>\n      <th>Temp</th>\n      <th>Humidity</th>\n      <th>Wind</th>\n      <th>Play</th>\n    </tr>\n  </thead>\n  <tbody>\n    <tr>\n      <th>3</th>\n      <td>4</td>\n      <td>Rain</td>\n      <td>Mild</td>\n      <td>High</td>\n      <td>Weak</td>\n      <td>Y</td>\n    </tr>\n    <tr>\n      <th>4</th>\n      <td>5</td>\n      <td>Rain</td>\n      <td>Cool</td>\n      <td>Normal</td>\n      <td>Weak</td>\n      <td>Y</td>\n    </tr>\n    <tr>\n      <th>5</th>\n      <td>6</td>\n      <td>Rain</td>\n      <td>Cool</td>\n      <td>Normal</td>\n      <td>Strong</td>\n      <td>N</td>\n    </tr>\n    <tr>\n      <th>9</th>\n      <td>10</td>\n      <td>Rain</td>\n      <td>Mild</td>\n      <td>Normal</td>\n      <td>Weak</td>\n      <td>Y</td>\n    </tr>\n    <tr>\n      <th>13</th>\n      <td>14</td>\n      <td>Rain</td>\n      <td>Mild</td>\n      <td>High</td>\n      <td>Strong</td>\n      <td>N</td>\n    </tr>\n  </tbody>\n</table>\n</div>"
     },
     "metadata": {}
    },
    {
     "output_type": "stream",
     "name": "stdout",
     "text": [
      "\n\n"
     ]
    }
   ],
   "source": [
    "fname=\"data.csv\"\n",
    "\n",
    "data= pd.read_csv(fname)\n",
    "col= list(data.columns[1:-1])\n",
    "yes=\"Y\"\n",
    "no=\"N\"\n",
    "\n",
    "m=-1\n",
    "root=\"\"\n",
    "for c in col:\n",
    "    g=information_gain(data,c)\n",
    "    m=max(m,g)\n",
    "    if m==g:\n",
    "        root=c\n",
    "    print(f\"gain of {c} is {g}\")\n",
    "print(f\"root is {root}\")\n",
    "subTrees=data[root].unique()\n",
    "print()\n",
    "print()\n",
    "for t in subTrees:\n",
    "    sub=data[data[root]==t]\n",
    "    print(t)\n",
    "    display(sub)\n",
    "    print()\n",
    "    print()\n",
    "    pure=\"\"\n",
    "    if len(sub[sub.columns[-1]].unique())==1:\n",
    "        pure=\"-is pure\"\n",
    "\n",
    "    sub.drop([root], axis=1).to_csv(f\"subtree-{t}{pure}.csv\",index=False)\n"
   ]
  },
  {
   "cell_type": "code",
   "execution_count": null,
   "metadata": {},
   "outputs": [],
   "source": []
  },
  {
   "cell_type": "code",
   "execution_count": null,
   "metadata": {},
   "outputs": [],
   "source": []
  }
 ]
}